{
 "cells": [
  {
   "cell_type": "code",
   "execution_count": 14,
   "metadata": {},
   "outputs": [
    {
     "data": {
      "text/plain": [
       "(6, 0)"
      ]
     },
     "execution_count": 14,
     "metadata": {},
     "output_type": "execute_result"
    }
   ],
   "source": [
    "import pygame\n",
    "import random\n",
    "clock = pygame.time.Clock()\n",
    "pygame.init()"
   ]
  },
  {
   "cell_type": "code",
   "execution_count": 5,
   "metadata": {},
   "outputs": [],
   "source": [
    "SIZE = (1000,500)\n",
    "screen = pygame.display.set_mode(SIZE)\n",
    "pygame.display.set_caption(\"Snowing\")\n",
    "background = pygame.image.load('snow.jpeg')"
   ]
  },
  {
   "cell_type": "code",
   "execution_count": 7,
   "metadata": {},
   "outputs": [],
   "source": [
    "snow = []\n",
    "for i in range(300):\n",
    "    x = random.randrange(0,SIZE[0])\n",
    "    y = random.randrange(0,SIZE[1])\n",
    "    speedx = random.randint(-1,2)\n",
    "    speedy = random.randint(3,8)\n",
    "    snow.append([x, y, speedx, speedy])"
   ]
  },
  {
   "cell_type": "code",
   "execution_count": 15,
   "metadata": {},
   "outputs": [],
   "source": [
    "done = False\n",
    "while not done:\n",
    "    for event in pygame.event.get():\n",
    "        if event.type == pygame.QUIT:\n",
    "            done = True\n",
    "    screen.blit(background, (0,0))\n",
    "    for i in range(len(snow)):\n",
    "        pygame.draw.circle(screen, (255, 255, 255), snow[i][:2], snow[i][3])\n",
    "        snow[i][0] += snow[i][2]\n",
    "        snow[i][1] += snow[i][3]\n",
    "        \n",
    "        if snow[i][1] > SIZE[1]:\n",
    "            snow[i][1] = random.randrange(-50, -10)\n",
    "            snow[i][0] = random.randrange(0, SIZE[0])\n",
    "    pygame.display.flip()\n",
    "    clock.tick(20)\n",
    "pygame.quit()"
   ]
  },
  {
   "cell_type": "code",
   "execution_count": null,
   "metadata": {},
   "outputs": [],
   "source": []
  }
 ],
 "metadata": {
  "kernelspec": {
   "display_name": "Python 3",
   "language": "python",
   "name": "python3"
  },
  "language_info": {
   "codemirror_mode": {
    "name": "ipython",
    "version": 3
   },
   "file_extension": ".py",
   "mimetype": "text/x-python",
   "name": "python",
   "nbconvert_exporter": "python",
   "pygments_lexer": "ipython3",
   "version": "3.5.6"
  }
 },
 "nbformat": 4,
 "nbformat_minor": 2
}
